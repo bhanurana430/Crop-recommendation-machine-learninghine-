{
 "cells": [
  {
   "cell_type": "code",
   "execution_count": 1,
   "metadata": {},
   "outputs": [],
   "source": [
    "#importing main modules\n",
    "import pandas as pd \n",
    "import numpy as np \n",
    "import os \n",
    "import matplotlib.pyplot as plt\n",
    "import seaborn as sns "
   ]
  },
  {
   "cell_type": "code",
   "execution_count": 2,
   "metadata": {},
   "outputs": [
    {
     "name": "stdout",
     "output_type": "stream",
     "text": [
      "    N   P   K  temperature   humidity        ph    rainfall label\n",
      "0  90  42  43    20.879744  82.002744  6.502985  202.935536  rice\n",
      "1  85  58  41    21.770462  80.319644  7.038096  226.655537  rice\n",
      "2  60  55  44    23.004459  82.320763  7.840207  263.964248  rice\n",
      "3  74  35  40    26.491096  80.158363  6.980401  242.864034  rice\n",
      "4  78  42  42    20.130175  81.604873  7.628473  262.717340  rice\n"
     ]
    }
   ],
   "source": [
    "#loading the dataset\n",
    "df = pd.read_csv(\"Crop_recommendation.csv\")\n",
    "print(df.head())\n",
    "\n",
    "# #checking the shape of the dataset\n",
    "# print(df.shape)\n"
   ]
  },
  {
   "cell_type": "code",
   "execution_count": null,
   "metadata": {},
   "outputs": [],
   "source": [
    "# #overview of dataset columns\n",
    "df.describe()"
   ]
  },
  {
   "cell_type": "code",
   "execution_count": null,
   "metadata": {},
   "outputs": [],
   "source": [
    "df.info()"
   ]
  },
  {
   "cell_type": "code",
   "execution_count": null,
   "metadata": {},
   "outputs": [],
   "source": [
    "# #num of values/observations for each class\n",
    "df[\"label\"].value_counts()"
   ]
  },
  {
   "cell_type": "code",
   "execution_count": null,
   "metadata": {},
   "outputs": [],
   "source": [
    "df['label'].unique()"
   ]
  },
  {
   "cell_type": "code",
   "execution_count": null,
   "metadata": {},
   "outputs": [],
   "source": [
    "# #checking for duplicate values\n",
    "df.loc[df.duplicated()]"
   ]
  },
  {
   "cell_type": "code",
   "execution_count": null,
   "metadata": {},
   "outputs": [],
   "source": [
    "# #checking for null values\n",
    "df.isnull().sum()"
   ]
  },
  {
   "cell_type": "code",
   "execution_count": null,
   "metadata": {},
   "outputs": [],
   "source": [
    "#checking outliers\n",
    "plt.figure(figsize=(10, 6))\n",
    "sns.boxplot(data=df)\n",
    "plt.title('Box Plot of Features')\n",
    "plt.show()"
   ]
  },
  {
   "cell_type": "code",
   "execution_count": null,
   "metadata": {},
   "outputs": [],
   "source": [
    "# checking distribution for each feature\n",
    "for column in df.columns:\n",
    "    plt.figure(figsize=(5, 3))\n",
    "    sns.histplot(df[column], bins=100)\n",
    "    plt.title(f'Distribution of {column}')\n",
    "    plt.show()\n",
    "\n",
    "# Ideal transformations for features :\n",
    "# N: Robust Scaler\n",
    "# P' : Robust Scaler\n",
    "# K: Robust Scaler\n",
    "# Temp, ph: Standard Scaler\n",
    "# Humidity, Rainfall: Log transformation"
   ]
  },
  {
   "cell_type": "code",
   "execution_count": null,
   "metadata": {},
   "outputs": [],
   "source": [
    "# for column in df1.columns:\n",
    "#     plt.figure(figsize=(5, 3))\n",
    "#     sns.kdeplot(df[column])\n",
    "#     plt.title(f'Distribution of {column}')\n",
    "#     plt.show()"
   ]
  },
  {
   "cell_type": "code",
   "execution_count": null,
   "metadata": {},
   "outputs": [],
   "source": [
    "# for column in df.columns:\n",
    "#     plt.figure(figsize=(10,6))\n",
    "#     sns.scatterplot(data=df, x=column, y='label', hue='label')\n",
    "#     plt.title(f'Distribution of {column}')\n",
    "#     plt.show()"
   ]
  },
  {
   "cell_type": "code",
   "execution_count": null,
   "metadata": {},
   "outputs": [],
   "source": [
    "# #checking relations for features with each other\n",
    "# plt.figure(figsize=(10, 6))\n",
    "# sns.pairplot(df, hue='label')\n",
    "# plt.show()\n"
   ]
  },
  {
   "cell_type": "code",
   "execution_count": null,
   "metadata": {},
   "outputs": [],
   "source": [
    "# #checking correlation\n",
    "# df1= df.drop('label', axis=1)\n",
    "# corr = df1.corr()\n",
    "# plt.figure(figsize=(12, 8))\n",
    "# sns.heatmap(corr, annot=True, cmap='coolwarm')\n",
    "# plt.title('Correlation Matrix')\n",
    "# plt.show()"
   ]
  },
  {
   "cell_type": "code",
   "execution_count": null,
   "metadata": {},
   "outputs": [],
   "source": [
    "# df.columns.unique()\n",
    "\n",
    "# le = LabelEncoder()\n",
    "# df['label']= le.fit_transform(df['label']) \n",
    "# df['label'].unique()\n"
   ]
  },
  {
   "cell_type": "code",
   "execution_count": null,
   "metadata": {},
   "outputs": [],
   "source": [
    "# #checking correlation\n",
    "# corr = df.corr()\n",
    "# plt.figure(figsize=(12, 8))\n",
    "# sns.heatmap(corr, annot=True, cmap='coolwarm')\n",
    "# plt.title('Correlation Matrix')\n",
    "# plt.show()"
   ]
  },
  {
   "cell_type": "code",
   "execution_count": null,
   "metadata": {},
   "outputs": [],
   "source": [
    "# df['rain-ph'] = df['rainfall'] - df['ph']\n",
    "# df.head()\n",
    "# corr = df.corr()\n",
    "# plt.figure(figsize=(12, 8))\n",
    "# sns.heatmap(corr, annot=True, cmap='coolwarm')\n",
    "# plt.title('Correlation Matrix')\n",
    "# plt.show()\n",
    "\n"
   ]
  },
  {
   "cell_type": "code",
   "execution_count": 3,
   "metadata": {},
   "outputs": [
    {
     "name": "stdout",
     "output_type": "stream",
     "text": [
      "Requirement already satisfied: scikit-learn in c:\\users\\bhanu\\appdata\\local\\packages\\pythonsoftwarefoundation.python.3.11_qbz5n2kfra8p0\\localcache\\local-packages\\python311\\site-packages (1.5.0)\n",
      "Requirement already satisfied: numpy>=1.19.5 in c:\\users\\bhanu\\appdata\\local\\packages\\pythonsoftwarefoundation.python.3.11_qbz5n2kfra8p0\\localcache\\local-packages\\python311\\site-packages (from scikit-learn) (1.26.4)\n",
      "Requirement already satisfied: scipy>=1.6.0 in c:\\users\\bhanu\\appdata\\local\\packages\\pythonsoftwarefoundation.python.3.11_qbz5n2kfra8p0\\localcache\\local-packages\\python311\\site-packages (from scikit-learn) (1.14.0)\n",
      "Requirement already satisfied: joblib>=1.2.0 in c:\\users\\bhanu\\appdata\\local\\packages\\pythonsoftwarefoundation.python.3.11_qbz5n2kfra8p0\\localcache\\local-packages\\python311\\site-packages (from scikit-learn) (1.4.2)\n",
      "Requirement already satisfied: threadpoolctl>=3.1.0 in c:\\users\\bhanu\\appdata\\local\\packages\\pythonsoftwarefoundation.python.3.11_qbz5n2kfra8p0\\localcache\\local-packages\\python311\\site-packages (from scikit-learn) (3.5.0)\n"
     ]
    },
    {
     "name": "stderr",
     "output_type": "stream",
     "text": [
      "\n",
      "[notice] A new release of pip is available: 24.0 -> 24.1.2\n",
      "[notice] To update, run: C:\\Users\\bhanu\\AppData\\Local\\Microsoft\\WindowsApps\\PythonSoftwareFoundation.Python.3.11_qbz5n2kfra8p0\\python.exe -m pip install --upgrade pip\n"
     ]
    }
   ],
   "source": [
    "!pip install scikit-learn"
   ]
  },
  {
   "cell_type": "code",
   "execution_count": null,
   "metadata": {},
   "outputs": [],
   "source": [
    "from sklearn.preprocessing import LabelEncoder\n"
   ]
  },
  {
   "cell_type": "code",
   "execution_count": null,
   "metadata": {},
   "outputs": [],
   "source": [
    "\n",
    "# le = LabelEncoder()\n",
    "# df['label']= le.fit_transform(df['label']) \n",
    "# df['label'].unique()\n",
    "\n",
    "\n"
   ]
  },
  {
   "cell_type": "code",
   "execution_count": null,
   "metadata": {},
   "outputs": [],
   "source": [
    "# df['label'] = df['label'].map({\n",
    "# 'rice' : 0,          \n",
    "# 'maize' : 1,        \n",
    "# 'jute' : 2,          \n",
    "# 'cotton' : 3,      \n",
    "# 'coconut' : 4,       \n",
    "# 'papaya' : 5,        \n",
    "# 'orange' : 6,        \n",
    "# 'apple'  : 7,         \n",
    "# 'muskmelon' : 8,    \n",
    "# 'watermelon'  : 9,   \n",
    "# 'grapes' : 10,       \n",
    "# 'mango'  :11,       \n",
    "# 'banana'  : 12,      \n",
    "# 'pomegranate'  : 13, \n",
    "# 'lentil'   :14,     \n",
    "# 'blackgram' : 15,    \n",
    "# 'mungbean'  : 16,    \n",
    "# 'mothbeans'  : 17,   \n",
    "# 'pigeonpeas'  : 18,  \n",
    "# 'kidneybeans'  : 19, \n",
    "# 'chickpea' : 20,   \n",
    "# 'coffee' : 21      \n",
    "# })"
   ]
  },
  {
   "cell_type": "code",
   "execution_count": null,
   "metadata": {},
   "outputs": [],
   "source": [
    "df.head()"
   ]
  },
  {
   "cell_type": "code",
   "execution_count": 4,
   "metadata": {},
   "outputs": [],
   "source": [
    "#splitting the data, such that 20% from each class goes into \n",
    "from sklearn.model_selection import train_test_split\n",
    "\n",
    "x = df.drop(columns=['label'])\n",
    "y = df['label']\n",
    "\n",
    "x_train, x_test, y_train, y_test = train_test_split(x, y, test_size=0.2, stratify=y, random_state=42)\n"
   ]
  },
  {
   "cell_type": "code",
   "execution_count": null,
   "metadata": {},
   "outputs": [],
   "source": [
    "# for col in x_train.columns:\n",
    "#     plt.figure(figsize=(10, 5))\n",
    "    \n",
    "#     plt.subplot(1, 2, 1)\n",
    "#     sns.histplot(x_train[col], kde=True)\n",
    "#     plt.title(f'{col} Distribution in Training Set')\n",
    "    \n",
    "#     plt.subplot(1, 2, 2)\n",
    "#     sns.histplot(x_test[col], kde=True)\n",
    "#     plt.title(f'{col} Distribution in Test Set')\n",
    "    \n",
    "#     plt.show()"
   ]
  },
  {
   "cell_type": "code",
   "execution_count": 5,
   "metadata": {},
   "outputs": [],
   "source": [
    "# from sklearn.compose import ColumnTransformer\n",
    "from sklearn.preprocessing import StandardScaler, RobustScaler, OneHotEncoder\n",
    "# from sklearn.pipeline import Pipeline\n",
    "\n",
    "\n",
    "# NPK_cols = ['N','P', 'K']\n",
    "# temp_ph_cols = ['temperature', 'ph']\n",
    "# rainfall_humidity_cols = ['rainfall', 'humidity']\n",
    "\n",
    "# transformed_columns = ['N', 'P', 'K', 'temperature', 'ph', 'rainfall', 'humidity']\n",
    "\n",
    "# x_train_transformed_df1 = pd.DataFrame(x_train_combined, columns=transformed_columns)\n",
    "\n",
    "\n",
    "\n",
    "\n",
    "# Apply RobustScaler to N, P, K\n",
    "# robust_scaler = RobustScaler()\n",
    "\n",
    "\n",
    "# x_train_NPK = robust_scaler.fit_transform(x_train[NPK_cols])\n",
    "# x_test_NPK = robust_scaler.transform(x_test[NPK_cols])\n",
    "\n",
    "# Create new DataFrames from the transformed arrays\n",
    "# x_train[NPK_cols] = pd.DataFrame(x_train_NPK, columns=NPK_cols, index=x_train.index)\n",
    "# x_test[NPK_cols] = pd.DataFrame(x_test_NPK, columns=NPK_cols, index=x_test.index)\n",
    "\n",
    "# Apply StandardScaler to temperature and ph\n",
    "# standard_scaler_temp_ph = StandardScaler()\n",
    "# x_train_temp_ph = standard_scaler_temp_ph.fit_transform(x_train[temp_ph_cols])\n",
    "# x_test_temp_ph = standard_scaler_temp_ph.transform(x_test[temp_ph_cols])\n",
    "\n",
    "# Create new DataFrames from the transformed arrays\n",
    "# x_train[temp_ph_cols] = pd.DataFrame(x_train_temp_ph, columns=temp_ph_cols, index=x_train.index)\n",
    "# x_test[temp_ph_cols] = pd.DataFrame(x_test_temp_ph, columns=temp_ph_cols, index=x_test.index)\n",
    "\n",
    "# Apply log transformation to rainfall and humidity\n",
    "# x_train[rainfall_humidity_cols] = np.log1p(x_train[rainfall_humidity_cols])\n",
    "# x_test[rainfall_humidity_cols] = np.log1p(x_test[rainfall_humidity_cols])\n",
    "\n",
    "# Combine the transformed features back into single datasets\n",
    "# x_train_combined = x_train[NPK_cols + temp_ph_cols + rainfall_humidity_cols]\n",
    "# x_test_combined = x_test[NPK_cols + temp_ph_cols + rainfall_humidity_cols]\n",
    "\n",
    "\n",
    "# Apply a final StandardScaler to the combined datasets\n",
    "final_scaler = StandardScaler()\n",
    "x_train_transformed = final_scaler.fit_transform(x_train)\n",
    "x_test_transformed = final_scaler.transform(x_test)\n",
    "\n"
   ]
  },
  {
   "cell_type": "code",
   "execution_count": 6,
   "metadata": {},
   "outputs": [],
   "source": [
    "transformed_columns = ['N', 'P', 'K', 'temperature', 'humidity', 'ph', 'rainfall']\n",
    "\n",
    "# N   P   K  temperature   humidity        ph    rainfall\n",
    "\n",
    "\n",
    "x_train_transformed_df = pd.DataFrame(x_train_transformed, columns=transformed_columns)\n",
    "x_test_transformed_df = pd.DataFrame(x_test_transformed, columns=transformed_columns)\n",
    "\n",
    "\n",
    "# plt.figure(figsize=(10, 5))\n",
    "    \n",
    "# plt.subplot(1, 2, 1)\n",
    "# sns.histplot(x_train['N'], kde=True)\n",
    "# plt.title(' Distribution in Training Set')\n",
    "    \n",
    "\n",
    "# plt.figure(figsize=(10, 5))\n",
    "    \n",
    "# plt.subplot(1, 2, 1)\n",
    "# sns.histplot(x_train['P'], kde=True)\n",
    "# plt.title(' Distribution in Training Set')\n",
    "    \n",
    "\n",
    "# plt.figure(figsize=(10, 5))\n",
    "    \n",
    "# plt.subplot(1, 2, 1)\n",
    "# sns.histplot(x_train['K'], kde=True)\n",
    "# plt.title(' Distribution in Training Set')\n"
   ]
  },
  {
   "cell_type": "code",
   "execution_count": null,
   "metadata": {},
   "outputs": [],
   "source": [
    "# transformed_columns = ['N', 'P', 'K', 'temperature', 'ph', 'rainfall', 'humidity']\n",
    "\n",
    "# x_train_transformed_df = pd.DataFrame(x_train_transformed, columns=transformed_columns)\n",
    "\n",
    "# for col in x_train_transformed_df.columns:\n",
    "#     plt.figure(figsize=(10, 5))\n",
    "    \n",
    "#     plt.subplot(1, 2, 1)\n",
    "#     sns.histplot(x_train[col], kde=True)\n",
    "#     plt.title(f'{col} Distribution Original')\n",
    "    \n",
    "#     plt.subplot(1, 2, 2)\n",
    "#     sns.histplot(x_train_transformed_df[col], kde=True)\n",
    "#     plt.title(f'{col} Distribution Transformed')\n",
    "    \n",
    "#     plt.show()"
   ]
  },
  {
   "cell_type": "code",
   "execution_count": null,
   "metadata": {},
   "outputs": [],
   "source": [
    "# for col in x_test_transformed_df.columns:\n",
    "#     plt.figure(figsize=(10, 5))\n",
    "    \n",
    "#     plt.subplot(1, 2, 1)\n",
    "#     sns.histplot(x_test[col], kde=True)\n",
    "#     plt.title(f'{col} Distribution Original')\n",
    "    \n",
    "#     plt.subplot(1, 2, 2)\n",
    "#     sns.histplot(x_test_transformed_df[col], kde=True)\n",
    "#     plt.title(f'{col} Distribution Transformed')\n",
    "    \n",
    "#     plt.show()"
   ]
  },
  {
   "cell_type": "code",
   "execution_count": 40,
   "metadata": {},
   "outputs": [],
   "source": [
    "from sklearn import tree\n",
    "from sklearn.tree import DecisionTreeClassifier, plot_tree\n",
    "from sklearn.feature_selection import RFECV, RFE\n",
    "from sklearn.model_selection import StratifiedKFold\n",
    "from sklearn.neighbors import KNeighborsClassifier\n",
    "from sklearn.ensemble import RandomForestClassifier\n",
    "from sklearn.neighbors import KNeighborsClassifier\n",
    "from sklearn.metrics import accuracy_score, classification_report, confusion_matrix, balanced_accuracy_score"
   ]
  },
  {
   "cell_type": "code",
   "execution_count": 121,
   "metadata": {},
   "outputs": [
    {
     "name": "stdout",
     "output_type": "stream",
     "text": [
      "Accuracy: 0.9795454545454545\n"
     ]
    }
   ],
   "source": [
    "dt = DecisionTreeClassifier(criterion='gini', splitter='best', max_depth=None, min_samples_split=2, min_samples_leaf=1, min_weight_fraction_leaf=0.0, max_features=None, random_state=42, max_leaf_nodes=None, min_impurity_decrease=0.0, class_weight=None, ccp_alpha=0.0, monotonic_cst=None)\n",
    "\n",
    "dt.fit(x_train, y_train) \n",
    "\n",
    "y_pred = dt.predict(x_test)\n",
    "accuracy = accuracy_score(y_test, y_pred)\n",
    "print(f'Accuracy: {accuracy}')"
   ]
  },
  {
   "cell_type": "code",
   "execution_count": 122,
   "metadata": {},
   "outputs": [
    {
     "data": {
      "text/plain": [
       "Index(['N', 'P', 'K', 'temperature', 'humidity', 'ph', 'rainfall', 'N P',\n",
       "       'N K', 'N temperature', 'N humidity', 'N ph', 'N rainfall', 'P K',\n",
       "       'P temperature', 'P humidity', 'P ph', 'P rainfall', 'K temperature',\n",
       "       'K humidity', 'K ph', 'K rainfall', 'temperature humidity',\n",
       "       'temperature ph', 'temperature rainfall', 'humidity ph',\n",
       "       'humidity rainfall', 'ph rainfall'],\n",
       "      dtype='object')"
      ]
     },
     "execution_count": 122,
     "metadata": {},
     "output_type": "execute_result"
    }
   ],
   "source": [
    "from sklearn.preprocessing import PolynomialFeatures\n",
    "\n",
    "poly = PolynomialFeatures(degree=2, interaction_only=True, include_bias=False)\n",
    "x_train_poly = poly.fit_transform(x_train_transformed)\n",
    "x_test_poly = poly.transform(x_test_transformed)\n",
    "\n",
    "# N   P   K  temperature   humidity        ph    rainfall\n",
    "\n",
    "feature_names = poly.get_feature_names_out(['N', 'P', 'K', 'temperature', 'humidity', 'ph', 'rainfall'])\n",
    "\n",
    "x_train_poly_df = pd.DataFrame(x_train_poly, columns= feature_names)\n",
    "x_test_poly_df = pd.DataFrame(x_test_poly, columns= feature_names)\n",
    "\n",
    "x_train_poly_df.columns.unique()\n",
    "\n"
   ]
  },
  {
   "cell_type": "code",
   "execution_count": 123,
   "metadata": {},
   "outputs": [
    {
     "name": "stdout",
     "output_type": "stream",
     "text": [
      "Accuracy: 0.9772727272727273\n"
     ]
    }
   ],
   "source": [
    "dt_poly = DecisionTreeClassifier(criterion='gini', splitter='best', max_depth=None, min_samples_split=2, min_samples_leaf=1, min_weight_fraction_leaf=0.0, max_features=None, random_state=42, max_leaf_nodes=None, min_impurity_decrease=0.0, class_weight=None, ccp_alpha=0.0, monotonic_cst=None)\n",
    "\n",
    "dt_poly.fit(x_train_poly_df, y_train) \n",
    "\n",
    "y_pred_poly = dt_poly.predict(x_test_poly_df)\n",
    "accuracy_poly = accuracy_score(y_test, y_pred_poly)\n",
    "print(f'Accuracy: {accuracy_poly}')"
   ]
  },
  {
   "cell_type": "code",
   "execution_count": 39,
   "metadata": {},
   "outputs": [],
   "source": [
    "# fig, ax = plt.subplots(figsize=(15, 8))\n",
    "\n",
    "# x_label = x_train_poly_df.columns\n",
    "# y_label = x_train_poly_df.var(axis=0)\n",
    "\n",
    "# ax.bar(x_label,y_label, width=0.8)\n",
    "# ax.set_xlabel('Features')\n",
    "# ax.set_ylabel('Variance')\n",
    "# ax.set_ylim(0,10)\n",
    "\n",
    "# for index, value in enumerate(y_label):\n",
    "#     plt.text(x=index, y=value+0.001, s=str(round(value,3)),ha='center')\n",
    "\n",
    "# fig.autofmt_xdate()\n",
    "# plt.tight_layout()"
   ]
  },
  {
   "cell_type": "code",
   "execution_count": 124,
   "metadata": {},
   "outputs": [
    {
     "name": "stdout",
     "output_type": "stream",
     "text": [
      "Accuracy: 0.9727272727272728\n"
     ]
    }
   ],
   "source": [
    "var_x_train = x_train_poly_df.drop(['K rainfall'], axis=1)\n",
    "var_x_test = x_test_poly_df.drop(['K rainfall'], axis=1)\n",
    "\n",
    "\n",
    "dt_var = DecisionTreeClassifier(criterion='gini', splitter='best', max_depth=None, min_samples_split=2, min_samples_leaf=1, min_weight_fraction_leaf=0.0, max_features=None, random_state=42, max_leaf_nodes=None, min_impurity_decrease=0.0, class_weight=None, ccp_alpha=0.0, monotonic_cst=None)\n",
    "\n",
    "dt_var.fit(var_x_train, y_train) \n",
    "\n",
    "y_pred_var = dt_var.predict(var_x_test)\n",
    "accuracy_var = accuracy_score(y_test, y_pred_var)\n",
    "print(f'Accuracy: {accuracy_var}')"
   ]
  },
  {
   "cell_type": "code",
   "execution_count": 126,
   "metadata": {},
   "outputs": [],
   "source": [
    "estimator = DecisionTreeClassifier(criterion='gini', splitter='best', max_depth=None, min_samples_split=2, min_samples_leaf=1, min_weight_fraction_leaf=0.0, max_features=None, random_state=42, max_leaf_nodes=None, min_impurity_decrease=0.0, class_weight=None, ccp_alpha=0.0, monotonic_cst=None)\n",
    "\n",
    "rfe_cacr_list = []\n",
    "\n",
    "x_train1, x_val, y_train1, y_val = train_test_split(x_train_poly_df, y_train, test_size=0.2, stratify=y_train, random_state=42)\n",
    "\n",
    "for k in range(1,29):\n",
    "    RFE_selector = RFE(estimator=estimator, n_features_to_select=k, step=1)\n",
    "    RFE_selector.fit(x_train1, y_train1)\n",
    "\n",
    "    final_train = RFE_selector.transform(x_train1)\n",
    "    final_test = RFE_selector.transform(x_val)\n",
    "\n",
    "    estimator.fit(final_train,y_train1)\n",
    "\n",
    "    y_pred_sel = estimator.predict(final_test)\n",
    "\n",
    "    cacr_sel = balanced_accuracy_score(y_val, y_pred_sel)\n",
    "\n",
    "    rfe_cacr_list.append(cacr_sel)\n",
    "\n",
    "\n",
    "# selector = RFE(estimator, n_features_to_select = 7  , step=1)\n",
    "\n",
    "# selector = selector.fit(x_train_poly, y_train)\n",
    "\n",
    "\n",
    "# feature_names_in_ = ['N', 'P', 'K', 'temperature', 'humidity', 'ph', 'rainfall', 'N P',\n",
    "#        'N K', 'N temperature', 'N humidity', 'N ph', 'N rainfall', 'P K',\n",
    "#        'P temperature', 'P humidity', 'P ph', 'P rainfall', 'K temperature',\n",
    "#        'K humidity', 'K ph', 'K rainfall', 'temperature humidity',\n",
    "#        'temperature ph', 'temperature rainfall', 'humidity ph',\n",
    "#        'humidity rainfall', 'ph rainfall']\n",
    "\n",
    "# selector.get_feature_names_out(feature_names_in_)\n",
    "\n",
    "# selected_features_rfe = x_train_poly_df.columns[selector.support_]\n",
    "# print(selected_features_rfe)\n",
    "\n",
    "# final_train_df = x_train_poly_df[selected_features_rfe]\n",
    "# final_test_df = x_test_poly_df[selected_features_rfe]"
   ]
  },
  {
   "cell_type": "code",
   "execution_count": 128,
   "metadata": {},
   "outputs": [],
   "source": [
    "# rfe_cacr_list"
   ]
  },
  {
   "cell_type": "code",
   "execution_count": 129,
   "metadata": {},
   "outputs": [
    {
     "data": {
      "image/png": "[encoded data removed]",
      "text/plain": [
       "<Figure size 1500x800 with 1 Axes>"
      ]
     },
     "metadata": {},
     "output_type": "display_data"
    }
   ],
   "source": [
    "fig, ax = plt.subplots(figsize=(15, 8))\n",
    "\n",
    "x_label = np.arange(1,29)\n",
    "y_label = rfe_cacr_list\n",
    "\n",
    "ax.bar(x_label,y_label, width=0.2)\n",
    "ax.set_xlabel('Number of feature selected using RFE')\n",
    "ax.set_ylabel('Balanced Accuracy Score')\n",
    "ax.set_ylim(0,2)\n",
    "ax.set_xticks(np.arange(1,29))\n",
    "ax.set_xticklabels(np.arange(1,29), fontsize = 12)\n",
    "\n",
    "for i, v in enumerate(y_label):\n",
    "    plt.text(x=i+1 , y=v+0.05, s=str(round(v,3)),ha='center')\n",
    "\n",
    "fig.autofmt_xdate()\n",
    "plt.tight_layout()"
   ]
  },
  {
   "cell_type": "code",
   "execution_count": 118,
   "metadata": {},
   "outputs": [
    {
     "data": {
      "text/plain": [
       "Index(['N', 'P', 'K', 'temperature', 'humidity', 'ph', 'rainfall', 'N P',\n",
       "       'N K', 'N humidity', 'N rainfall', 'P K', 'P temperature', 'P humidity',\n",
       "       'P rainfall', 'K temperature', 'K humidity', 'K rainfall',\n",
       "       'temperature humidity', 'temperature rainfall', 'humidity ph',\n",
       "       'humidity rainfall', 'ph rainfall'],\n",
       "      dtype='object')"
      ]
     },
     "execution_count": 118,
     "metadata": {},
     "output_type": "execute_result"
    }
   ],
   "source": [
    "RFE_selector = RFE(estimator=estimator, n_features_to_select=23, step=1)\n",
    "RFE_selector.fit(x_train_poly_df, y_train)\n",
    "\n",
    "\n",
    "x_train_sel = RFE_selector.transform(x_train_poly_df)\n",
    "x_test_sel = RFE_selector.transform(x_test_poly_df)\n",
    "\n",
    "selected_features_mask = RFE_selector.get_support()\n",
    "\n",
    "selected_features = x_train_poly_df.columns[selected_features_mask]\n",
    "\n",
    "selected_features\n"
   ]
  },
  {
   "cell_type": "code",
   "execution_count": 120,
   "metadata": {},
   "outputs": [
    {
     "name": "stdout",
     "output_type": "stream",
     "text": [
      "Accuracy: 0.9795454545454545\n"
     ]
    }
   ],
   "source": [
    "dt_sel = DecisionTreeClassifier()\n",
    "\n",
    "\n",
    "dt_sel.fit(x_train_sel, y_train) \n",
    "\n",
    "y_pred_sel = dt_sel.predict(x_test_sel)\n",
    "accuracy_sel = accuracy_score(y_test, y_pred_sel)\n",
    "print(f'Accuracy: {accuracy_sel}')"
   ]
  },
  {
   "cell_type": "code",
   "execution_count": null,
   "metadata": {},
   "outputs": [],
   "source": []
  },
  {
   "cell_type": "code",
   "execution_count": null,
   "metadata": {},
   "outputs": [],
   "source": []
  },
  {
   "cell_type": "code",
   "execution_count": null,
   "metadata": {},
   "outputs": [],
   "source": []
  },
  {
   "cell_type": "code",
   "execution_count": null,
   "metadata": {},
   "outputs": [],
   "source": [
    "# from sklearn.feature_selection import SequentialFeatureSelector\n",
    "# from sklearn.ensemble import RandomForestClassifier\n",
    "\n",
    "# classifier = RandomForestClassifier(n_estimators=100)\n",
    "\n",
    "# selector = SequentialFeatureSelector(classifier, n_features_to_select= 7, direction= 'forward' , n_jobs= -1 , cv = 5)\n",
    "\n",
    "# selector = selector.fit(x_train_poly, y_train)\n",
    "\n"
   ]
  },
  {
   "cell_type": "code",
   "execution_count": null,
   "metadata": {},
   "outputs": [],
   "source": [
    "\n",
    "\n",
    "# x_train1, x_val, y_train1, y_val = train_test_split(x_train_poly, y_train, test_size=0.2, stratify=y_train, random_state=42)\n",
    "\n",
    "# # Initialize the k-NN model\n",
    "# knn = KNeighborsClassifier(n_neighbors=3)\n",
    "\n",
    "\n",
    "# # Train the model on the training data\n",
    "# knn.fit(x_train1, y_train1)\n",
    "\n",
    "\n",
    "# # Predict on the test data using the best k\n",
    "# y_pred1 = knn.predict(x_val)\n",
    "\n",
    "\n",
    "\n",
    "# # Evaluate accuracy\n",
    "# accuracy = accuracy_score(y_val, y_pred1)\n",
    "# print(f\"Accuracy: {accuracy}\")\n",
    "\n",
    "# quality_criteria = balanced_accuracy_score(y_val, y_pred1)\n",
    "# print(f\"Classwise averaged score: {quality_criteria}\")"
   ]
  },
  {
   "cell_type": "code",
   "execution_count": null,
   "metadata": {},
   "outputs": [],
   "source": [
    "# x_train.head()"
   ]
  },
  {
   "cell_type": "code",
   "execution_count": null,
   "metadata": {},
   "outputs": [],
   "source": [
    "# x_test.head()\n",
    "\n"
   ]
  },
  {
   "cell_type": "code",
   "execution_count": null,
   "metadata": {},
   "outputs": [],
   "source": []
  },
  {
   "cell_type": "code",
   "execution_count": null,
   "metadata": {},
   "outputs": [],
   "source": [
    "#  "
   ]
  },
  {
   "cell_type": "code",
   "execution_count": null,
   "metadata": {},
   "outputs": [],
   "source": [
    "# from sklearn import tree\n",
    "\n",
    "# dt1 = DecisionTreeClassifier(criterion='gini', splitter='best', max_depth=10, min_samples_split=2, min_samples_leaf=1, min_weight_fraction_leaf=0.0, max_features=None, random_state=None, max_leaf_nodes=None, min_impurity_decrease=0.0, class_weight=None, ccp_alpha=0.0, monotonic_cst=None)\n",
    "\n",
    "\n",
    "# dt1.fit(final_train, y_train) \n",
    "\n",
    "# plt.figure(\"Tree\", figsize=[16,8])\n",
    "# plot_tree(dt1 , fontsize=5)\n",
    "# plt.show()\n",
    "\n",
    "# y_pred1 = dt1.predict(final_test)\n",
    "# accuracy = accuracy_score(y_test, y_pred)\n",
    "# print(f'Accuracy: {accuracy}')"
   ]
  },
  {
   "cell_type": "code",
   "execution_count": null,
   "metadata": {},
   "outputs": [],
   "source": [
    "# from sklearn.neighbors import KNeighborsClassifier\n",
    "# from sklearn.metrics import accuracy_score, classification_report, confusion_matrix, balanced_accuracy_score\n",
    "\n",
    "# # Initialize the k-NN model\n",
    "# knn = KNeighborsClassifier(n_neighbors=3)\n",
    "\n",
    "\n",
    "# x_train_final.head()\n",
    "\n",
    "\n",
    "# # Train the model on the training data\n",
    "# knn.fit(final_train, y_train)\n",
    "\n",
    "\n",
    "# # Predict on the test data using the best k\n",
    "# y_pred = knn.predict(final_test)\n",
    "\n",
    "\n",
    "\n",
    "# # Evaluate accuracy\n",
    "# accuracy = accuracy_score(y_test, y_pred)\n",
    "# print(f\"Accuracy: {accuracy}\")"
   ]
  },
  {
   "cell_type": "markdown",
   "metadata": {},
   "source": [
    "1. Quality criterai\n",
    "2. Feature selection(3 algo)\n",
    "3. Dimentionality reduction\n",
    "4. Model Short listing"
   ]
  }
 ],
 "metadata": {
  "kernelspec": {
   "display_name": ".venv",
   "language": "python",
   "name": "python3"
  },
  "language_info": {
   "codemirror_mode": {
    "name": "ipython",
    "version": 3
   },
   "file_extension": ".py",
   "mimetype": "text/x-python",
   "name": "python",
   "nbconvert_exporter": "python",
   "pygments_lexer": "ipython3",
   "version": "3.11.9"
  }
 },
 "nbformat": 4,
 "nbformat_minor": 2
}
